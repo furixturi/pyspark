{
 "cells": [
  {
   "attachments": {},
   "cell_type": "markdown",
   "metadata": {},
   "source": [
    "# First PySpark Program Continued"
   ]
  },
  {
   "attachments": {},
   "cell_type": "markdown",
   "metadata": {},
   "source": [
    "## Overview\n",
    "\n",
    "Our program is planned as follows:\n",
    "We want to find the most used words in Pride and Prejudice. Here are the steps we want to take:\n",
    "1. `Read` input data (assuming a plain text file)\n",
    "2. `Token`ize each word\n",
    "3. `Clean` up: \n",
    "   1. Remove puncuations and non-word tokens\n",
    "   2. Lowercase each word\n",
    "4. `Count` the frequency of each word\n",
    "5. `Answer` return the top 10 (or 20, 50, 100)\n",
    "\n",
    "In chapter 2 we've done 1~3. Now we want to do 4~5,submit our first PySpark program, and also organize our program into multiple Python files."
   ]
  },
  {
   "attachments": {},
   "cell_type": "markdown",
   "metadata": {},
   "source": [
    "## Group, Order and Aggregate the Records"
   ]
  },
  {
   "attachments": {},
   "cell_type": "markdown",
   "metadata": {},
   "source": [
    "### Group\n",
    "\n",
    "To group a data frame's records into groups, we use data frame's `groupby()` method and pass the columns we want to group as the parameter. \n",
    "\n",
    "This method returns a `GroupData` object on which we can apply aggregation functions such as `count()`."
   ]
  },
  {
   "cell_type": "code",
   "execution_count": 19,
   "metadata": {},
   "outputs": [],
   "source": [
    "# The usual initialization\n",
    "import pyspark\n",
    "from pyspark.sql import SparkSession\n",
    "from pyspark.sql.functions import split, explode, lower, regexp_extract, length, col\n",
    "\n",
    "spark = SparkSession.builder.appName(\"Analyzing the vocabulary of Pride and Prejudice\").getOrCreate()\n",
    "\n",
    "# load and preprocess data\n",
    "book = spark.read.text(\"../data/gutenberg_books/1342-0.txt\")\n",
    "words_nonull = book.select(\n",
    "        split(book.value, \" \").alias(\"line\")\n",
    "    ).select(\n",
    "        explode(\"line\").alias(\"word\")\n",
    "    ).select(\n",
    "        lower(\"word\").alias(\"word_lower\")\n",
    "    ).select(\n",
    "        regexp_extract(\"word_lower\", \"[a-z]+\", 0).\n",
    "            alias(\"word\")\n",
    "    ).where(\n",
    "        length(col(\"word\")) > 0\n",
    "    )"
   ]
  },
  {
   "cell_type": "code",
   "execution_count": 20,
   "metadata": {},
   "outputs": [
    {
     "name": "stdout",
     "output_type": "stream",
     "text": [
      "<pyspark.sql.group.GroupedData object at 0x10a0fcd00>\n"
     ]
    }
   ],
   "source": [
    "# group\n",
    "groups = words_nonull.groupBy(col(\"word\"))\n",
    "print(groups)"
   ]
  },
  {
   "cell_type": "code",
   "execution_count": 21,
   "metadata": {},
   "outputs": [
    {
     "name": "stdout",
     "output_type": "stream",
     "text": [
      "DataFrame[word: string, count: bigint]\n",
      "+------+-----+\n",
      "|  word|count|\n",
      "+------+-----+\n",
      "|online|    4|\n",
      "|  some|  209|\n",
      "| still|   72|\n",
      "|   few|   72|\n",
      "|  hope|  122|\n",
      "+------+-----+\n",
      "only showing top 5 rows\n",
      "\n"
     ]
    }
   ],
   "source": [
    "results = words_nonull.groupBy(\n",
    "        col(\"word\")\n",
    "    ).count()\n",
    "print(results)\n",
    "results.show(5)"
   ]
  },
  {
   "attachments": {},
   "cell_type": "markdown",
   "metadata": {},
   "source": [
    "### Order\n",
    "\n",
    "Use `orderBy` to order the results by a column. You can pass multiple columns."
   ]
  },
  {
   "cell_type": "code",
   "execution_count": 22,
   "metadata": {},
   "outputs": [
    {
     "name": "stdout",
     "output_type": "stream",
     "text": [
      "+----+-----+\n",
      "|word|count|\n",
      "+----+-----+\n",
      "| the| 4496|\n",
      "|  to| 4235|\n",
      "|  of| 3719|\n",
      "| and| 3602|\n",
      "| her| 2223|\n",
      "+----+-----+\n",
      "only showing top 5 rows\n",
      "\n",
      "+----+-----+\n",
      "|word|count|\n",
      "+----+-----+\n",
      "| the| 4496|\n",
      "|  to| 4235|\n",
      "|  of| 3719|\n",
      "| and| 3602|\n",
      "| her| 2223|\n",
      "+----+-----+\n",
      "only showing top 5 rows\n",
      "\n"
     ]
    }
   ],
   "source": [
    "results.orderBy(\"count\", ascending=False).show(5)\n",
    "# alternativly\n",
    "results.orderBy(col(\"count\").desc()).show(5)"
   ]
  },
  {
   "cell_type": "code",
   "execution_count": null,
   "metadata": {},
   "outputs": [],
   "source": []
  }
 ],
 "metadata": {
  "kernelspec": {
   "display_name": "Python 3 (ipykernel)",
   "language": "python",
   "name": "python3"
  },
  "language_info": {
   "codemirror_mode": {
    "name": "ipython",
    "version": 3
   },
   "file_extension": ".py",
   "mimetype": "text/x-python",
   "name": "python",
   "nbconvert_exporter": "python",
   "pygments_lexer": "ipython3",
   "version": "3.9.12"
  },
  "orig_nbformat": 4
 },
 "nbformat": 4,
 "nbformat_minor": 2
}
